{
 "cells": [
  {
   "cell_type": "markdown",
   "metadata": {
    "collapsed": false
   },
   "source": [
    "# Duplicate 3\n",
    "Given an array of integers, find out whether there are two distinct indices i and j in the array such that the absolute difference between nums[i] and nums[j]is at most t and the absolute difference between i and j is at most k. "
   ]
  },
  {
   "cell_type": "code",
   "execution_count": 8,
   "metadata": {
    "collapsed": false
   },
   "outputs": [],
   "source": [
    "def containsNearbyAlmostDuplicate(self, nums, k, t):\n",
    "    \"\"\"\n",
    "    :type nums: List[int]\n",
    "    :type k: int\n",
    "    :type t: int\n",
    "    :rtype: bool\n",
    "    \"\"\"\n",
    "    \"[(1, 2), (2, 4), (3, 1), (5, 3)]\"\n",
    "    \n",
    "    "
   ]
  },
  {
   "cell_type": "markdown",
   "metadata": {
    "collapsed": true
   },
   "source": [
    "# Live Ramp (minimum trip question)"
   ]
  },
  {
   "cell_type": "code",
   "execution_count": 103,
   "metadata": {
    "collapsed": false
   },
   "outputs": [],
   "source": [
    "def minimumTrips(A):\n",
    "    complete_trip = set(A)\n",
    "    number_locations = len(complete_trip)\n",
    "    length = len(A)\n",
    "    beg = 0\n",
    "    end = 1\n",
    "    dic = {}\n",
    "    for idx, i in enumerate(A):\n",
    "        if i not in dic:\n",
    "            dic[i] = 1\n",
    "        else:\n",
    "            dic[i] +=1\n",
    "        if (len(dic) == number_locations):\n",
    "            end = idx\n",
    "            break\n",
    "    k = len(A) # minimum days for complete trip\n",
    "    print(dic)\n",
    "    while (end < length):\n",
    "        print(beg, end, A[beg], A[end])\n",
    "        dic[A[end]] += 1\n",
    "        while (dic[A[beg]] > 1):\n",
    "            if (beg >= end):\n",
    "                break\n",
    "            print(beg, end, A[beg], A[end])\n",
    "            dic[A[beg]] -= 1\n",
    "            beg += 1\n",
    "        end += 1\n",
    "        if (len(set(A[beg:end])) == number_locations):\n",
    "            print(A[beg:end], end, beg)\n",
    "            k = min(k, end - beg)\n",
    "    return k\n",
    "        \n",
    "        "
   ]
  },
  {
   "cell_type": "code",
   "execution_count": 104,
   "metadata": {
    "collapsed": false
   },
   "outputs": [
    {
     "name": "stdout",
     "output_type": "stream",
     "text": [
      "{1: 1, 3: 3, 4: 1, 7: 2}\n",
      "0 6 7 4\n",
      "0 6 7 4\n",
      "1 6 3 4\n",
      "[7, 3, 1, 3, 4] 7 2\n",
      "2 7 7 1\n",
      "[7, 3, 1, 3, 4, 1] 8 2\n"
     ]
    },
    {
     "data": {
      "text/plain": [
       "5"
      ]
     },
     "execution_count": 104,
     "metadata": {},
     "output_type": "execute_result"
    }
   ],
   "source": [
    "A = [2, 1, 1, 3, 2, 1, 1, 3]\n",
    "B = [7, 3, 7, 3, 1, 3, 4, 1]\n",
    "C = [7, 5, 2, 7, 2, 7, 4, 7]\n",
    "minimumTrips(B)"
   ]
  },
  {
   "cell_type": "code",
   "execution_count": null,
   "metadata": {
    "collapsed": false
   },
   "outputs": [],
   "source": []
  },
  {
   "cell_type": "code",
   "execution_count": null,
   "metadata": {
    "collapsed": true
   },
   "outputs": [],
   "source": []
  }
 ],
 "metadata": {
  "kernelspec": {
   "display_name": "Python [Root]",
   "language": "python",
   "name": "Python [Root]"
  },
  "language_info": {
   "codemirror_mode": {
    "name": "ipython",
    "version": 3
   },
   "file_extension": ".py",
   "mimetype": "text/x-python",
   "name": "python",
   "nbconvert_exporter": "python",
   "pygments_lexer": "ipython3",
   "version": "3.5.2"
  }
 },
 "nbformat": 4,
 "nbformat_minor": 0
}

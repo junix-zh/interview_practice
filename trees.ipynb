{
 "cells": [
  {
   "cell_type": "markdown",
   "metadata": {},
   "source": [
    "# Invert Binary Tree\n",
    "Invert a binary tree.\n",
    "\n",
    "[4,2,7,1,3,6,9] -> [4,7,2,9,6,3,1] LEVEL ORDER\n"
   ]
  },
  {
   "cell_type": "code",
   "execution_count": 2,
   "metadata": {
    "collapsed": false
   },
   "outputs": [],
   "source": [
    "# class TreeNode {\n",
    "#     val;\n",
    "#     TreeNode left;\n",
    "#     TreeNode right;\n",
    "#     TreeNode(int x) { val = x; }\n",
    "# }\n",
    "\n",
    "def invertTree(root):\n",
    "    if (root is nil):\n",
    "        return root \n",
    "    lft = invertTree(root.left)\n",
    "    rght = invertTree(root.right)\n",
    "    root.right = lft\n",
    "    root.left = rght\n",
    "    return root\n",
    "    "
   ]
  },
  {
   "cell_type": "code",
   "execution_count": null,
   "metadata": {
    "collapsed": true
   },
   "outputs": [],
   "source": []
  }
 ],
 "metadata": {
  "anaconda-cloud": {},
  "kernelspec": {
   "display_name": "Python [Root]",
   "language": "python",
   "name": "Python [Root]"
  },
  "language_info": {
   "codemirror_mode": {
    "name": "ipython",
    "version": 3
   },
   "file_extension": ".py",
   "mimetype": "text/x-python",
   "name": "python",
   "nbconvert_exporter": "python",
   "pygments_lexer": "ipython3",
   "version": "3.5.2"
  }
 },
 "nbformat": 4,
 "nbformat_minor": 0
}
